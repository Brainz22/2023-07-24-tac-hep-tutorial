{
 "cells": [
  {
   "cell_type": "markdown",
   "id": "8625654d-e2ae-471f-8691-03a84bb38232",
   "metadata": {},
   "source": [
    "# Horizontal scaling of columnar analysis: Dask"
   ]
  },
  {
   "cell_type": "markdown",
   "id": "c9411fe9-07f3-4398-87f2-3d7dc3e7619b",
   "metadata": {},
   "source": [
    "(no frills notebook)\n",
    "\n",
    "<br><br><br><br><br>"
   ]
  },
  {
   "cell_type": "markdown",
   "id": "eb4c1368-9ba7-4847-ba43-5d40df7b6509",
   "metadata": {},
   "source": [
    "There are many ways to spread a computation to many processes or many machines—the most conventional way is to use a batch system.\n",
    "\n",
    "[Coffea](https://coffeateam.github.io/coffea/) packages up a lot of what I'm about to show in a HEP-oriented framework. The next major version, based on dask-awkward, is [still in pre-release](https://pypi.org/project/coffea/#history) but will be in final release soon.\n",
    "\n",
    "This notebook will focus on Dask and dask-awkward."
   ]
  },
  {
   "cell_type": "markdown",
   "id": "badf3af0-0d12-488b-941e-4854160e18ad",
   "metadata": {},
   "source": [
    "## Dask task graphs"
   ]
  },
  {
   "cell_type": "code",
   "execution_count": null,
   "id": "aa1eab72-17f3-4345-a7d6-0c7c3be319aa",
   "metadata": {
    "tags": []
   },
   "outputs": [],
   "source": [
    "import dask"
   ]
  },
  {
   "cell_type": "markdown",
   "id": "a32ba9b9-5186-41e4-8a32-34e3d9a1c984",
   "metadata": {},
   "source": [
    "Eager Python code:"
   ]
  },
  {
   "cell_type": "code",
   "execution_count": null,
   "id": "8e17d9c1-bd21-4368-830e-6526e736db0b",
   "metadata": {
    "tags": []
   },
   "outputs": [],
   "source": [
    "def increment(i):\n",
    "    return i + 1\n",
    "\n",
    "def add(a, b):\n",
    "    return a + b\n",
    "\n",
    "a, b = 1, 12\n",
    "c = increment(a)\n",
    "d = increment(b)\n",
    "output = add(c, d)\n",
    "\n",
    "output"
   ]
  },
  {
   "cell_type": "markdown",
   "id": "67ec20e9-950a-4d2d-b2c8-b7b98f0f6b5d",
   "metadata": {},
   "source": [
    "Lazy Python code:"
   ]
  },
  {
   "cell_type": "code",
   "execution_count": null,
   "id": "cd1f6518-ee01-433d-81a4-2c66acc18114",
   "metadata": {
    "tags": []
   },
   "outputs": [],
   "source": [
    "@dask.delayed\n",
    "def increment(i):\n",
    "    return i + 1\n",
    "\n",
    "@dask.delayed\n",
    "def add(a, b):\n",
    "    return a + b\n",
    "\n",
    "a, b = 1, 12\n",
    "c = increment(a)\n",
    "d = increment(b)\n",
    "output = add(c, d)\n",
    "\n",
    "output"
   ]
  },
  {
   "cell_type": "code",
   "execution_count": null,
   "id": "755d5ba1-5c2e-45d6-b713-bcd073dcf11c",
   "metadata": {
    "tags": []
   },
   "outputs": [],
   "source": [
    "output.visualize()"
   ]
  },
  {
   "cell_type": "code",
   "execution_count": null,
   "id": "6048f189-83a5-4d16-95db-a56dde8356a0",
   "metadata": {
    "tags": []
   },
   "outputs": [],
   "source": [
    "output.compute()"
   ]
  },
  {
   "cell_type": "markdown",
   "id": "75ca8f47-90a0-46e0-94e7-da3735d8b109",
   "metadata": {},
   "source": [
    "<br><br><br><br><br>"
   ]
  },
  {
   "cell_type": "markdown",
   "id": "eea1cf7f-2ea8-4a1b-bff4-df9dd2cc6690",
   "metadata": {},
   "source": [
    "## Distributed computing"
   ]
  },
  {
   "cell_type": "markdown",
   "id": "e1da20c2-7445-4830-8df8-cfb82ca28ad3",
   "metadata": {},
   "source": [
    "A delayed computation is a set of instructions to run it, which we can send to remote computers to run it remotely.\n",
    "\n",
    "When we break up a large computation, send it to many computers, and collect the results, we have distributed the computation."
   ]
  },
  {
   "cell_type": "code",
   "execution_count": null,
   "id": "c03ef0bb-68c2-4bf2-9af7-20bc4db2de5c",
   "metadata": {
    "tags": []
   },
   "outputs": [],
   "source": [
    "import time\n",
    "\n",
    "@dask.delayed\n",
    "def start():\n",
    "    print(\"start\")\n",
    "    return 1\n",
    "\n",
    "@dask.delayed\n",
    "def concurrent(initial, i):\n",
    "    time.sleep(0.5)\n",
    "    print(f\"concurrent {i}\")\n",
    "    return initial + i**2\n",
    "\n",
    "@dask.delayed\n",
    "def combine(partial_results):\n",
    "    print(\"combine\")\n",
    "    return sum(partial_results)\n",
    "\n",
    "initial = start()\n",
    "output = combine([concurrent(initial, i) for i in range(10)])"
   ]
  },
  {
   "cell_type": "code",
   "execution_count": null,
   "id": "ac604793-6632-4401-b44a-6d62b6e7718c",
   "metadata": {
    "tags": []
   },
   "outputs": [],
   "source": [
    "output.visualize()"
   ]
  },
  {
   "cell_type": "markdown",
   "id": "d5b6a840-2033-408e-8b77-ea98efe477ed",
   "metadata": {},
   "source": [
    "The `dask` library has three built-in schedulers:\n",
    "\n",
    "- `\"synchronous\"`: not parallel (for debugging)\n",
    "- `\"threads\"`: multiple threads in the same process, limited by the [Python GIL](https://realpython.com/python-gil/)\n",
    "- `\"processes\"`: multiple Python processes; not affected by the GIL, but it has to start a bunch of processes"
   ]
  },
  {
   "cell_type": "code",
   "execution_count": null,
   "id": "5899555f-0458-437a-8eec-f790d00248f0",
   "metadata": {
    "tags": []
   },
   "outputs": [],
   "source": [
    "with dask.config.set(scheduler=\"synchronous\"):\n",
    "    output.compute()"
   ]
  },
  {
   "cell_type": "markdown",
   "id": "35a111f2-8b8d-45b8-99e8-983453f8ab3c",
   "metadata": {},
   "source": [
    "Dask `distributed` is another library that focuses on distributed computing.\n",
    "\n",
    "<img src=\"img/distributed-overview.svg\" width=\"100%\">"
   ]
  },
  {
   "cell_type": "markdown",
   "id": "45262bca-1519-4fd4-aff7-6a6ef5af5e4f",
   "metadata": {
    "tags": []
   },
   "source": [
    "Run in separate terminals:\n",
    "\n",
    "```bash\n",
    "dask-scheduler\n",
    "```\n",
    "\n",
    "and several of the following:\n",
    "\n",
    "```bash\n",
    "dask-worker --nthreads 1 127.0.0.1:8786\n",
    "```"
   ]
  },
  {
   "cell_type": "code",
   "execution_count": null,
   "id": "877e99fb-7044-46a2-aeab-5c2928d5c3ee",
   "metadata": {
    "tags": []
   },
   "outputs": [],
   "source": [
    "import dask.distributed\n",
    "\n",
    "client = dask.distributed.Client(\"127.0.0.1:8786\")\n",
    "client"
   ]
  },
  {
   "cell_type": "code",
   "execution_count": null,
   "id": "c4accd6b-4e48-416a-942b-d4f975be3955",
   "metadata": {
    "tags": []
   },
   "outputs": [],
   "source": [
    "output.compute()"
   ]
  },
  {
   "cell_type": "markdown",
   "id": "1a036aaa-058a-41c2-a06a-45c66d276185",
   "metadata": {},
   "source": [
    "<br><br><br><br><br>"
   ]
  },
  {
   "cell_type": "markdown",
   "id": "9ffd3ff4-b83f-4fe4-ace9-1189f38c0e8a",
   "metadata": {},
   "source": [
    "## Dask collections"
   ]
  },
  {
   "cell_type": "markdown",
   "id": "b530dcab-0445-4208-89f4-1ad02c0a94d3",
   "metadata": {},
   "source": [
    "You can build general computations with `@dask.delayed`, but there are some common patterns that we'd want to build all the time.\n",
    "\n",
    "For instance, splitting a calculation on NumPy arrays into embarrassingly parallel parts:"
   ]
  },
  {
   "cell_type": "code",
   "execution_count": null,
   "id": "bbe2df09-3ccf-44fa-a7dd-7b66bc8a95a9",
   "metadata": {
    "tags": []
   },
   "outputs": [],
   "source": [
    "import numpy as np"
   ]
  },
  {
   "cell_type": "code",
   "execution_count": null,
   "id": "b41e7b69-5d3e-4c35-a735-4a150bd71091",
   "metadata": {
    "tags": []
   },
   "outputs": [],
   "source": [
    "@dask.delayed\n",
    "def quadratic_formula(a, b, c):\n",
    "    return (-b + np.sqrt(b**2 - 4*a*c)) / (2*a)\n",
    "\n",
    "@dask.delayed\n",
    "def combine_results(parts):\n",
    "    return np.concatenate(parts)"
   ]
  },
  {
   "cell_type": "code",
   "execution_count": null,
   "id": "8e2e5d55-9ac3-480d-a7b2-2e42e90335d0",
   "metadata": {
    "tags": []
   },
   "outputs": [],
   "source": [
    "parts = []\n",
    "\n",
    "for i in range(10):\n",
    "    a = np.random.uniform(5, 10, 1000000)\n",
    "    b = np.random.uniform(10, 20, 1000000)\n",
    "    c = np.random.uniform(-0.1, 0.1, 1000000)\n",
    "    parts.append({\"a\": a, \"b\": b, \"c\": c})"
   ]
  },
  {
   "cell_type": "code",
   "execution_count": null,
   "id": "a76869d1-52d0-45df-a011-10ab20301517",
   "metadata": {
    "tags": []
   },
   "outputs": [],
   "source": [
    "output = combine_results(\n",
    "    [quadratic_formula(part[\"a\"], part[\"b\"], part[\"c\"]) for part in parts]\n",
    ")"
   ]
  },
  {
   "cell_type": "code",
   "execution_count": null,
   "id": "b6259bb7-894e-4f8a-b2e7-187f45500fb0",
   "metadata": {
    "tags": []
   },
   "outputs": [],
   "source": [
    "output.visualize()"
   ]
  },
  {
   "cell_type": "code",
   "execution_count": null,
   "id": "e1d8e902-86e6-4475-8c5f-f52c1dc3df81",
   "metadata": {
    "tags": []
   },
   "outputs": [],
   "source": [
    "output.compute()"
   ]
  },
  {
   "cell_type": "markdown",
   "id": "82f0a7de-1d7b-4671-a6c2-147404f1d0b3",
   "metadata": {},
   "source": [
    "<br><br><br><br><br>"
   ]
  },
  {
   "cell_type": "markdown",
   "id": "f531021a-8d12-442c-9cec-672c601ad742",
   "metadata": {},
   "source": [
    "Handling all of those parts is annoying. Without splitting and parallelizing, this would be:"
   ]
  },
  {
   "cell_type": "code",
   "execution_count": null,
   "id": "b7c2088e-d379-45a9-a611-d2b3f517cd60",
   "metadata": {
    "tags": []
   },
   "outputs": [],
   "source": [
    "def quadratic_formula(a, b, c):\n",
    "    return (-b + np.sqrt(b**2 - 4*a*c)) / (2*a)\n",
    "\n",
    "a = np.random.uniform(5, 10, 1000000 * 10)\n",
    "b = np.random.uniform(10, 20, 1000000 * 10)\n",
    "c = np.random.uniform(-0.1, 0.1, 1000000 * 10)\n",
    "\n",
    "output = quadratic_formula(a, b, c)\n",
    "output"
   ]
  },
  {
   "cell_type": "markdown",
   "id": "2c04a20f-9481-4093-90ba-84da1a87dcff",
   "metadata": {},
   "source": [
    "Wouldn't it be nice to just say"
   ]
  },
  {
   "cell_type": "code",
   "execution_count": null,
   "id": "e2729b29-e504-4fba-824d-ca8acf61b7c9",
   "metadata": {
    "tags": []
   },
   "outputs": [],
   "source": [
    "import dask.array as da\n",
    "\n",
    "a = da.random.uniform(5, 10, 1000000 * 10, chunks=1000000)\n",
    "b = da.random.uniform(10, 20, 1000000 * 10, chunks=1000000)\n",
    "c = da.random.uniform(-0.1, 0.1, 1000000 * 10, chunks=1000000)\n",
    "\n",
    "output = quadratic_formula(a, b, c)\n",
    "output"
   ]
  },
  {
   "cell_type": "code",
   "execution_count": null,
   "id": "85119caa-3186-43a0-9c22-9fa9d02deb4f",
   "metadata": {
    "tags": []
   },
   "outputs": [],
   "source": [
    "output.visualize(optimize_graph=True)"
   ]
  },
  {
   "cell_type": "code",
   "execution_count": null,
   "id": "40e8cddc-0ea7-4285-89b4-0d1927d88492",
   "metadata": {
    "tags": []
   },
   "outputs": [],
   "source": [
    "output.compute()"
   ]
  },
  {
   "cell_type": "markdown",
   "id": "95713d26-9f39-4d30-b7c3-2ad9fc091238",
   "metadata": {},
   "source": [
    "Or more complex examples:"
   ]
  },
  {
   "cell_type": "code",
   "execution_count": null,
   "id": "297ee693-b78f-4879-a71b-faacbda88e16",
   "metadata": {
    "tags": []
   },
   "outputs": [],
   "source": [
    "reduced_output = np.sum(output)\n",
    "reduced_output.visualize(optimize_graph=True)"
   ]
  },
  {
   "cell_type": "code",
   "execution_count": null,
   "id": "d142a439-6c2c-48d4-8066-29298018a3f0",
   "metadata": {
    "tags": []
   },
   "outputs": [],
   "source": [
    "reduced_output.compute()"
   ]
  },
  {
   "cell_type": "markdown",
   "id": "7d2469c7-6eeb-47de-8729-c38650a5817f",
   "metadata": {},
   "source": [
    "<br><br><br><br><br>"
   ]
  },
  {
   "cell_type": "markdown",
   "id": "a3bc8830-8964-4612-8f3a-179e4ab402ca",
   "metadata": {},
   "source": [
    "<img src=\"img/dask-overview.svg\" width=\"100%\">"
   ]
  },
  {
   "cell_type": "markdown",
   "id": "301736c4-d27c-41da-99e5-7d5fda537724",
   "metadata": {},
   "source": [
    "<br><br><br><br><br>"
   ]
  },
  {
   "cell_type": "markdown",
   "id": "1f256dc7-b6b9-4ff3-bc2f-e4cb8e8e155e",
   "metadata": {},
   "source": [
    "## dask-awkward"
   ]
  },
  {
   "cell_type": "markdown",
   "id": "108d13b1-a8cf-4b73-a23c-27158b19ccf0",
   "metadata": {},
   "source": [
    "[dask-awkward](https://github.com/dask-contrib/dask-awkward) is a new high-level collection type for distributed Awkward Arrays.\n",
    "\n",
    "Presentations and demos:\n",
    "\n",
    "- Mar 28, 2022 [IRIS-HEP topical meeting](https://indico.cern.ch/event/1140959/#6-awkward-arrays-in-dask)\n",
    "- Sep 16, 2022 [PyHEP workshop](https://indico.cern.ch/event/1150631/timetable/#37-dask-tutorial)\n",
    "- Dec 2, 2022 [PyData Global](https://global2022.pydata.org/cfp/talk/GEHBLR/)\n",
    "- Dec 14, 2022 [Anaconda webinar](http://go2.anaconda.com/Mzg3LVhOVy02ODgAAAGIc7AHDk0j1xApwNgUgP5mf9m2SWAdc5ADKi_FOU9HRFu-6RL4CAXZDmoT3YWfjF68m4h2DUM=)\n",
    "- Apr 10, 2023 [Doug Davis's blog](https://ddavis.io/blog/dask-awkward-optimization/)"
   ]
  },
  {
   "cell_type": "code",
   "execution_count": null,
   "id": "664be873-c432-492a-8596-0f9059ccd978",
   "metadata": {
    "tags": []
   },
   "outputs": [],
   "source": [
    "import dask_awkward as dak"
   ]
  },
  {
   "cell_type": "code",
   "execution_count": null,
   "id": "fd78ea12-8f1b-4aae-92f8-3206c45d4b7d",
   "metadata": {
    "tags": []
   },
   "outputs": [],
   "source": [
    "lazy_events = dak.from_parquet(\"data/SMHiggsToZZTo4L.parquet\")\n",
    "lazy_events"
   ]
  },
  {
   "cell_type": "code",
   "execution_count": null,
   "id": "4cfb7612-c205-4ea7-87ef-db5ba5d7d130",
   "metadata": {
    "tags": []
   },
   "outputs": [],
   "source": [
    "lazy_events.type.show()"
   ]
  },
  {
   "cell_type": "code",
   "execution_count": null,
   "id": "2ee5277f-53a4-49a6-8bb1-f87e4c3c6cd9",
   "metadata": {
    "tags": []
   },
   "outputs": [],
   "source": [
    "import uproot"
   ]
  },
  {
   "cell_type": "code",
   "execution_count": null,
   "id": "c6a43db8-49ba-445c-92f8-41a2e9768d77",
   "metadata": {
    "tags": []
   },
   "outputs": [],
   "source": [
    "lazy_tree = uproot.dask(\"data/SMHiggsToZZTo4L.root\", step_size=\"10 MB\")\n",
    "lazy_tree"
   ]
  },
  {
   "cell_type": "code",
   "execution_count": null,
   "id": "0e387dd3-1fe9-4c17-bdda-2ba55d2253c5",
   "metadata": {
    "tags": []
   },
   "outputs": [],
   "source": [
    "lazy_tree.type.show()"
   ]
  },
  {
   "cell_type": "code",
   "execution_count": null,
   "id": "9dfe722b-169e-4d75-bf99-d8a31d1401e5",
   "metadata": {
    "tags": []
   },
   "outputs": [],
   "source": [
    "lazy_events2 = lazy_events.repartition(5)"
   ]
  },
  {
   "cell_type": "code",
   "execution_count": null,
   "id": "d0d6d676-9563-4623-9887-77876c2ad22a",
   "metadata": {
    "tags": []
   },
   "outputs": [],
   "source": [
    "import numpy as np\n",
    "\n",
    "def fast_mass(mu1pt, mu2pt, mu1eta, mu2eta, mu1phi, mu2phi):\n",
    "    return np.sqrt(\n",
    "        2 * mu1pt * mu2pt * (np.cosh(mu1eta - mu2eta) - np.cos(mu1phi - mu2phi))\n",
    "    )\n",
    "\n",
    "muplus = lazy_events2.muon[lazy_events2.muon.charge > 0]\n",
    "muminus = lazy_events2.muon[lazy_events2.muon.charge < 0]\n",
    "\n",
    "mu1, mu2 = dak.unzip(dak.cartesian((muplus, muminus)))\n",
    "\n",
    "output = fast_mass(mu1.pt, mu2.pt, mu1.eta, mu2.eta, mu1.phi, mu2.phi)"
   ]
  },
  {
   "cell_type": "code",
   "execution_count": null,
   "id": "6803f5e7-2944-41da-a624-73e6b4a7be9c",
   "metadata": {
    "tags": []
   },
   "outputs": [],
   "source": [
    "output.visualize()"
   ]
  },
  {
   "cell_type": "code",
   "execution_count": null,
   "id": "6e1d3352-9b94-4c93-84d7-c1c3a6f8be6a",
   "metadata": {
    "tags": []
   },
   "outputs": [],
   "source": [
    "from dask.distributed import Client\n",
    "\n",
    "client = Client()\n",
    "client"
   ]
  },
  {
   "cell_type": "code",
   "execution_count": null,
   "id": "b0c339ea-6b4a-47e2-b1d9-7b46dd8befc2",
   "metadata": {
    "tags": []
   },
   "outputs": [],
   "source": [
    "output.compute()"
   ]
  }
 ],
 "metadata": {
  "kernelspec": {
   "display_name": "Python 3 (ipykernel)",
   "language": "python",
   "name": "python3"
  },
  "language_info": {
   "codemirror_mode": {
    "name": "ipython",
    "version": 3
   },
   "file_extension": ".py",
   "mimetype": "text/x-python",
   "name": "python",
   "nbconvert_exporter": "python",
   "pygments_lexer": "ipython3",
   "version": "3.10.8"
  }
 },
 "nbformat": 4,
 "nbformat_minor": 5
}

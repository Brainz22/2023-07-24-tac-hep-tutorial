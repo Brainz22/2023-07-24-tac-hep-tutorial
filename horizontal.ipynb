{
 "cells": [
  {
   "cell_type": "markdown",
   "id": "8625654d-e2ae-471f-8691-03a84bb38232",
   "metadata": {},
   "source": [
    "# Horizontal scaling of columnar analysis: Dask"
   ]
  },
  {
   "cell_type": "markdown",
   "id": "c9411fe9-07f3-4398-87f2-3d7dc3e7619b",
   "metadata": {},
   "source": [
    "(no frills notebook)"
   ]
  },
  {
   "cell_type": "code",
   "execution_count": null,
   "id": "76b4a82e-5c61-4f92-82bd-8a64d694746a",
   "metadata": {},
   "outputs": [],
   "source": []
  }
 ],
 "metadata": {
  "kernelspec": {
   "display_name": "Python 3 (ipykernel)",
   "language": "python",
   "name": "python3"
  },
  "language_info": {
   "codemirror_mode": {
    "name": "ipython",
    "version": 3
   },
   "file_extension": ".py",
   "mimetype": "text/x-python",
   "name": "python",
   "nbconvert_exporter": "python",
   "pygments_lexer": "ipython3",
   "version": "3.10.8"
  }
 },
 "nbformat": 4,
 "nbformat_minor": 5
}

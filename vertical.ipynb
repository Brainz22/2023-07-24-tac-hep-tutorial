{
 "cells": [
  {
   "cell_type": "markdown",
   "id": "06e249a0-a8e2-4def-b4ca-d713d6744fb5",
   "metadata": {},
   "source": [
    "# Vertical scaling of columnar analysis: Numba and C++ integration"
   ]
  },
  {
   "cell_type": "markdown",
   "id": "88373c9c-16fd-4b66-be4a-4e91fbc50ef6",
   "metadata": {},
   "source": [
    "(no-frills notebook)\n",
    "\n",
    "<br><br><br><br><br>"
   ]
  },
  {
   "cell_type": "markdown",
   "id": "07942888-3bc5-42b2-b210-8f5d1c477937",
   "metadata": {},
   "source": [
    "## Motivation"
   ]
  },
  {
   "cell_type": "markdown",
   "id": "3c5df422-ca87-4ace-808f-acb9e0cbe6d7",
   "metadata": {},
   "source": [
    "There are two kinds of languages, and Python is one of the slow kind.\n",
    "\n",
    "<img src=\"img/benchmark-games-2023.svg\" width=\"100%\">"
   ]
  },
  {
   "cell_type": "markdown",
   "id": "79cd37c9-8fe6-4beb-a098-f0a219d6807c",
   "metadata": {},
   "source": [
    "But there are a lot of ways to connect Python with compiled languages, usually C++ (increasingly, Rust).\n",
    "\n",
    "<img src=\"img/history-of-bindings-2.svg\" width=\"100%\">"
   ]
  },
  {
   "cell_type": "markdown",
   "id": "2bd0218c-8684-4ae9-acb4-1b76b671917e",
   "metadata": {},
   "source": [
    "## Connecting some C++ code into Python"
   ]
  },
  {
   "cell_type": "code",
   "execution_count": null,
   "id": "cbfe9bbc-439b-4544-b772-2ad0347fe707",
   "metadata": {},
   "outputs": [],
   "source": []
  }
 ],
 "metadata": {
  "kernelspec": {
   "display_name": "Python 3 (ipykernel)",
   "language": "python",
   "name": "python3"
  },
  "language_info": {
   "codemirror_mode": {
    "name": "ipython",
    "version": 3
   },
   "file_extension": ".py",
   "mimetype": "text/x-python",
   "name": "python",
   "nbconvert_exporter": "python",
   "pygments_lexer": "ipython3",
   "version": "3.10.8"
  }
 },
 "nbformat": 4,
 "nbformat_minor": 5
}

{
 "cells": [
  {
   "cell_type": "markdown",
   "id": "06e249a0-a8e2-4def-b4ca-d713d6744fb5",
   "metadata": {},
   "source": [
    "# Vertical scaling of columnar analysis: Numba and C++ integration"
   ]
  },
  {
   "cell_type": "markdown",
   "id": "88373c9c-16fd-4b66-be4a-4e91fbc50ef6",
   "metadata": {},
   "source": [
    "(no-frills notebook)"
   ]
  },
  {
   "cell_type": "code",
   "execution_count": null,
   "id": "e1dcab9a-bb15-492a-91f5-034eef28bc35",
   "metadata": {},
   "outputs": [],
   "source": []
  }
 ],
 "metadata": {
  "kernelspec": {
   "display_name": "Python 3 (ipykernel)",
   "language": "python",
   "name": "python3"
  },
  "language_info": {
   "codemirror_mode": {
    "name": "ipython",
    "version": 3
   },
   "file_extension": ".py",
   "mimetype": "text/x-python",
   "name": "python",
   "nbconvert_exporter": "python",
   "pygments_lexer": "ipython3",
   "version": "3.10.8"
  }
 },
 "nbformat": 4,
 "nbformat_minor": 5
}
